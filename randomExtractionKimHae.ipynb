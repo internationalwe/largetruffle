{
 "metadata": {
  "language_info": {
   "codemirror_mode": {
    "name": "ipython",
    "version": 3
   },
   "file_extension": ".py",
   "mimetype": "text/x-python",
   "name": "python",
   "nbconvert_exporter": "python",
   "pygments_lexer": "ipython3",
   "version": "3.8.8"
  },
  "orig_nbformat": 4,
  "kernelspec": {
   "name": "python3",
   "display_name": "Python 3.8.8 64-bit ('base': conda)"
  },
  "interpreter": {
   "hash": "7fa6e3eb562817058a384f6b36bb63d68831967ae4c1e8a33ae8249458f3f811"
  }
 },
 "nbformat": 4,
 "nbformat_minor": 2,
 "cells": [
  {
   "cell_type": "code",
   "execution_count": 2,
   "metadata": {},
   "outputs": [],
   "source": [
    "import os\n",
    "import random#1113 + 371 + 371"
   ]
  },
  {
   "cell_type": "code",
   "execution_count": 2,
   "metadata": {},
   "outputs": [],
   "source": [
    "path_dir = \"/home/class1/Document/project/largewaste/dataset/largeWasteImageByKimHae\"\n",
    "cp_dir = \"/home/class1/Document/project/largewaste/dataset/randomLargeWasteImageByKimHae\""
   ]
  },
  {
   "cell_type": "code",
   "execution_count": 3,
   "metadata": {},
   "outputs": [],
   "source": [
    "image_list = os.listdir(path_dir)"
   ]
  },
  {
   "cell_type": "code",
   "execution_count": 4,
   "metadata": {},
   "outputs": [],
   "source": [
    "random_extraction_list = random.sample(image_list,1856)"
   ]
  },
  {
   "cell_type": "code",
   "execution_count": 5,
   "metadata": {},
   "outputs": [],
   "source": [
    "import shutil\n",
    "to_ = \"/home/class1/Document/project/largewaste/dataset/randomLargeWasteImageByKimHae\"\n",
    "\n",
    "for file_name in random_extraction_list:\n",
    "    from_ = path_dir + '/' + file_name\n",
    "    shutil.copy(from_,to_)"
   ]
  },
  {
   "cell_type": "code",
   "execution_count": 4,
   "metadata": {},
   "outputs": [],
   "source": [
    "random_path_dir = \"/home/class1/Document/project/largewaste/dataset/randomLargeWasteImageByKimHae\"\n",
    "random_image_list = os.listdir(random_path_dir)\n",
    "random_image_list_jpg = [file for file in random_image_list if file.endswith(\".jpg\")]\n",
    "train_random_extraction_list = random.sample(random_image_list_jpg,1114)"
   ]
  },
  {
   "cell_type": "code",
   "execution_count": 6,
   "metadata": {
    "tags": [
     "outputPrepend"
    ]
   },
   "outputs": [
    {
     "output_type": "stream",
     "name": "stdout",
     "text": [
      "80290.jpg', 'File0075736.jpg', 'File0076969.jpg', 'File0092004.jpg', 'File0075900.jpg', 'File0051933.jpg', 'File0070539.jpg', 'File0071843.jpg', 'File0051104.jpg', 'File0095202.jpg', 'File0071216.jpg', 'File0078107.jpg', 'File0095700.jpg', 'File0052106.jpg', 'File0073930.jpg', 'File0070391.jpg', 'File0049982.jpg', 'File0072756.jpg', 'File0076422.jpg', 'File0092473.jpg', 'File0093411.jpg', 'File0081199.jpg', 'File0090846.jpg', 'File0095096.jpg', 'File0095257.jpg', 'File0050661.jpg', 'File0050448.jpg', 'File0077515.jpg', 'File0075759.jpg', 'File0073291.jpg', 'File0071010.jpg', 'File0079164.jpg', 'File0095771.jpg', 'File0051414.jpg', 'File0073240.jpg', 'File0090149.jpg', 'File0076761.jpg', 'File0076547.jpg', 'File0073567.jpg', 'File0079138.jpg', 'File0048091.jpg', 'File0095843.jpg', 'File0070104.jpg', 'File0077634.jpg', 'File0049682.jpg', 'File0079854.jpg', 'File0050731.jpg', 'File0052102.jpg', 'File0052743.jpg', 'File0092066.jpg', 'File0071359.jpg', 'File0094562.jpg', 'File0074142.jpg', 'File0071810.jpg', 'File0049335.jpg', 'File0052788.jpg', 'File0050224.jpg', 'File0075717.jpg', 'File0055045.jpg', 'File0051428.jpg', 'File0090218.jpg', 'File0073385.jpg', 'File0080143.jpg', 'File0076069.jpg', 'File0092923.jpg', 'File0049442.jpg', 'File0055455.jpg', 'File0093726.jpg', 'File0092839.jpg', 'File0080181.jpg', 'File0051283.jpg', 'File0095433.jpg', 'File0076952.jpg', 'File0094963.jpg', 'File0079730.jpg', 'File0080453.jpg', 'File0077716.jpg', 'File0095770.jpg', 'File0079517.jpg', 'File0091154.jpg', 'File0071535.jpg', 'File0078870.jpg', 'File0049064.jpg', 'File0072187.jpg', 'File0072832.jpg', 'File0047525.jpg', 'File0075399.jpg', 'File0072106.jpg', 'File0052292.jpg', 'File0055280.jpg', 'File0076877.jpg', 'File0093644.jpg', 'File0047742.jpg', 'File0071923.jpg', 'File0078321.jpg', 'File0076071.jpg', 'File0052374.jpg', 'File0079608.jpg', 'File0051072.jpg', 'File0076967.jpg', 'File0092575.jpg', 'File0089900.jpg', 'File0079760.jpg', 'File0048186.jpg', 'File0054722.jpg', 'File0075497.jpg', 'File0076209.jpg', 'File0054382.jpg', 'File0092522.jpg', 'File0095705.jpg', 'File0075113.jpg', 'File0072069.jpg', 'File0076907.jpg', 'File0077812.jpg', 'File0079946.jpg', 'File0076047.jpg', 'File0074171.jpg', 'File0048264.jpg', 'File0078983.jpg', 'File0049583.jpg', 'File0073821.jpg', 'File0077845.jpg', 'File0055095.jpg', 'File0092843.jpg', 'File0095809.jpg', 'File0070570.jpg', 'File0076686.jpg', 'File0073383.jpg', 'File0091165.jpg', 'File0095304.jpg', 'File0047297.jpg', 'File0072055.jpg', 'File0074809.jpg', 'File0051475.jpg', 'File0052697.jpg', 'File0093610.jpg', 'File0081110.jpg', 'File0093039.jpg', 'File0047622.jpg', 'File0090599.jpg', 'File0095693.jpg', 'File0078298.jpg', 'File0091119.jpg', 'File0076286.jpg', 'File0052999.jpg', 'File0090265.jpg', 'File0055533.jpg', 'File0070052.jpg', 'File0080966.jpg', 'File0095500.jpg', 'File0056242.jpg', 'File0095276.jpg', 'File0080514.jpg', 'File0050146.jpg', 'File0077006.jpg', 'File0077715.jpg', 'File0072437.jpg', 'File0051703.jpg', 'File0076783.jpg', 'File0054185.jpg', 'File0051656.jpg', 'File0077679.jpg', 'File0055202.jpg', 'File0078481.jpg', 'File0049237.jpg', 'File0075512.jpg', 'File0074878.jpg', 'File0079108.jpg', 'File0095301.jpg', 'File0052509.jpg', 'File0051636.jpg', 'File0075761.jpg', 'File0076631.jpg', 'File0051876.jpg', 'File0091554.jpg', 'File0054301.jpg', 'File0070200.jpg', 'File0091877.jpg', 'File0081204.jpg', 'File0075204.jpg', 'File0075789.jpg', 'File0071693.jpg', 'File0049516.jpg', 'File0050162.jpg', 'File0093474.jpg', 'File0081122.jpg', 'File0050049.jpg', 'File0053590.jpg', 'File0089817.jpg', 'File0048761.jpg', 'File0074390.jpg', 'File0081137.jpg', 'File0070329.jpg', 'File0074954.jpg', 'File0052742.jpg', 'File0093234.jpg', 'File0095603.jpg', 'File0080933.jpg', 'File0056259.jpg', 'File0074433.jpg', 'File0049719.jpg', 'File0072220.jpg', 'File0049566.jpg', 'File0076866.jpg', 'File0048737.jpg', 'File0071965.jpg', 'File0080390.jpg', 'File0095901.jpg', 'File0073096.jpg', 'File0049560.jpg', 'File0090885.jpg', 'File0081156.jpg', 'File0049292.jpg', 'File0072920.jpg', 'File0054853.jpg', 'File0073764.jpg', 'File0071338.jpg', 'File0077141.jpg', 'File0071520.jpg', 'File0078043.jpg', 'File0071991.jpg', 'File0071581.jpg', 'File0093453.jpg', 'File0078254.jpg', 'File0095109.jpg', 'File0051650.jpg', 'File0051700.jpg', 'File0070144.jpg', 'File0073566.jpg', 'File0090594.jpg', 'File0071375.jpg', 'File0053269.jpg', 'File0090500.jpg', 'File0047639.jpg', 'File0073957.jpg', 'File0073940.jpg', 'File0077559.jpg', 'File0047795.jpg', 'File0073148.jpg', 'File0075053.jpg', 'File0080106.jpg', 'File0078615.jpg', 'File0092660.jpg', 'File0074542.jpg', 'File0094527.jpg', 'File0079954.jpg', 'File0079074.jpg', 'File0055609.jpg', 'File0055938.jpg', 'File0077703.jpg', 'File0055071.jpg', 'File0051434.jpg', 'File0080074.jpg', 'File0055546.jpg', 'File0072488.jpg', 'File0079710.jpg', 'File0052139.jpg', 'File0069882.jpg', 'File0051085.jpg', 'File0074032.jpg', 'File0074189.jpg', 'File0092022.jpg', 'File0055128.jpg', 'File0094420.jpg', 'File0071942.jpg', 'File0094309.jpg', 'File0093863.jpg', 'File0077238.jpg', 'File0047868.jpg', 'File0077912.jpg', 'File0054653.jpg', 'File0048921.jpg', 'File0079948.jpg', 'File0049615.jpg', 'File0050933.jpg', 'File0055905.jpg', 'File0094359.jpg', 'File0056177.jpg', 'File0091688.jpg', 'File0070973.jpg', 'File0071267.jpg', 'File0071451.jpg', 'File0048038.jpg', 'File0051969.jpg', 'File0055876.jpg', 'File0073341.jpg', 'File0070413.jpg', 'File0073608.jpg', 'File0092781.jpg', 'File0094073.jpg', 'File0050420.jpg', 'File0094688.jpg', 'File0050760.jpg', 'File0072937.jpg', 'File0055436.jpg', 'File0091611.jpg', 'File0093756.jpg', 'File0047172.jpg', 'File0094680.jpg', 'File0071764.jpg', 'File0053744.jpg', 'File0048717.jpg', 'File0094244.jpg', 'File0093916.jpg', 'File0073100.jpg', 'File0090229.jpg', 'File0076410.jpg', 'File0072033.jpg', 'File0074293.jpg', 'File0075434.jpg', 'File0050393.jpg', 'File0070734.jpg', 'File0090679.jpg', 'File0052060.jpg', 'File0095380.jpg', 'File0071585.jpg', 'File0092421.jpg', 'File0049697.jpg', 'File0074236.jpg', 'File0080914.jpg', 'File0091059.jpg', 'File0048126.jpg', 'File0072716.jpg', 'File0053314.jpg', 'File0075474.jpg', 'File0052928.jpg', 'File0074219.jpg', 'File0050349.jpg', 'File0050321.jpg', 'File0055901.jpg', 'File0052966.jpg', 'File0071831.jpg', 'File0051793.jpg', 'File0071733.jpg', 'File0080813.jpg', 'File0054236.jpg', 'File0093767.jpg', 'File0048259.jpg', 'File0095780.jpg', 'File0078716.jpg', 'File0071818.jpg', 'File0053747.jpg', 'File0072291.jpg', 'File0093131.jpg', 'File0055916.jpg', 'File0077633.jpg', 'File0051313.jpg', 'File0077034.jpg', 'File0047452.jpg', 'File0052605.jpg', 'File0070625.jpg', 'File0055029.jpg', 'File0077869.jpg', 'File0074684.jpg', 'File0048817.jpg', 'File0074233.jpg', 'File0090332.jpg', 'File0091343.jpg', 'File0069912.jpg', 'File0049037.jpg', 'File0074478.jpg', 'File0093286.jpg', 'File0093728.jpg', 'File0070721.jpg', 'File0073980.jpg', 'File0076065.jpg', 'File0052250.jpg', 'File0078938.jpg', 'File0070265.jpg', 'File0078430.jpg', 'File0079189.jpg', 'File0070737.jpg', 'File0080577.jpg', 'File0072336.jpg', 'File0076660.jpg', 'File0079662.jpg', 'File0095141.jpg', 'File0047283.jpg', 'File0080862.jpg', 'File0049257.jpg', 'File0080917.jpg', 'File0095909.jpg', 'File0076330.jpg', 'File0076519.jpg', 'File0090691.jpg', 'File0094304.jpg', 'File0056758.jpg', 'File0094683.jpg', 'File0055502.jpg', 'File0078099.jpg', 'File0070750.jpg', 'File0056689.jpg', 'File0052481.jpg', 'File0094647.jpg', 'File0075046.jpg', 'File0055664.jpg', 'File0050372.jpg', 'File0072316.jpg', 'File0080053.jpg', 'File0070948.jpg', 'File0078224.jpg', 'File0072025.jpg', 'File0093012.jpg', 'File0075990.jpg', 'File0078688.jpg', 'File0080338.jpg', 'File0075574.jpg', 'File0055088.jpg', 'File0069993.jpg', 'File0093114.jpg', 'File0079394.jpg', 'File0081260.jpg', 'File0072330.jpg', 'File0073965.jpg', 'File0077763.jpg', 'File0089880.jpg', 'File0055630.jpg', 'File0051205.jpg', 'File0055222.jpg', 'File0051425.jpg', 'File0054362.jpg', 'File0047712.jpg', 'File0073963.jpg', 'File0072611.jpg', 'File0079220.jpg', 'File0056690.jpg', 'File0074678.jpg', 'File0074721.jpg', 'File0091464.jpg', 'File0076072.jpg', 'File0092888.jpg', 'File0080112.jpg', 'File0072347.jpg', 'File0049508.jpg', 'File0080954.jpg', 'File0072235.jpg', 'File0092041.jpg', 'File0048322.jpg', 'File0053802.jpg', 'File0076665.jpg', 'File0080080.jpg', 'File0051991.jpg', 'File0075891.jpg', 'File0056823.jpg', 'File0073078.jpg', 'File0074083.jpg', 'File0080442.jpg', 'File0079188.jpg', 'File0048430.jpg', 'File0093005.jpg', 'File0071409.jpg', 'File0048015.jpg', 'File0078976.jpg', 'File0091106.jpg', 'File0074763.jpg', 'File0093765.jpg', 'File0074823.jpg', 'File0076300.jpg', 'File0092829.jpg', 'File0070677.jpg', 'File0073531.jpg', 'File0056516.jpg', 'File0056382.jpg', 'File0077916.jpg', 'File0070363.jpg', 'File0093955.jpg', 'File0048566.jpg', 'File0054217.jpg', 'File0070080.jpg', 'File0075233.jpg', 'File0073687.jpg', 'File0053236.jpg', 'File0071192.jpg', 'File0054343.jpg', 'File0074984.jpg', 'File0070444.jpg', 'File0080459.jpg', 'File0048542.jpg', 'File0075355.jpg', 'File0073170.jpg', 'File0047302.jpg', 'File0074783.jpg', 'File0074105.jpg', 'File0047344.jpg', 'File0094531.jpg', 'File0071668.jpg', 'File0052896.jpg', 'File0092036.jpg', 'File0072498.jpg', 'File0071341.jpg', 'File0047653.jpg', 'File0093345.jpg', 'File0093455.jpg', 'File0072142.jpg', 'File0051039.jpg', 'File0078925.jpg', 'File0047630.jpg', 'File0050614.jpg', 'File0053565.jpg', 'File0091128.jpg', 'File0051339.jpg', 'File0081244.jpg', 'File0076679.jpg', 'File0076289.jpg', 'File0080116.jpg', 'File0080126.jpg', 'File0071467.jpg', 'File0072369.jpg', 'File0075991.jpg', 'File0091006.jpg', 'File0048722.jpg', 'File0069843.jpg', 'File0090022.jpg', 'File0090871.jpg', 'File0075720.jpg', 'File0080998.jpg', 'File0056831.jpg', 'File0050787.jpg', 'File0075619.jpg', 'File0052387.jpg', 'File0055099.jpg', 'File0073292.jpg', 'File0050511.jpg', 'File0048479.jpg', 'File0072101.jpg', 'File0093418.jpg', 'File0090388.jpg', 'File0056768.jpg', 'File0070257.jpg', 'File0053206.jpg', 'File0080262.jpg', 'File0094230.jpg', 'File0050244.jpg', 'File0069807.jpg', 'File0074883.jpg', 'File0077736.jpg', 'File0070672.jpg', 'File0055604.jpg', 'File0093008.jpg', 'File0050011.jpg', 'File0056313.jpg', 'File0071720.jpg', 'File0093562.jpg', 'File0070738.jpg', 'File0056469.jpg', 'File0053297.jpg', 'File0092229.jpg', 'File0072933.jpg', 'File0092033.jpg', 'File0080015.jpg', 'File0071830.jpg', 'File0047857.jpg', 'File0089913.jpg', 'File0071966.jpg', 'File0092123.jpg', 'File0078515.jpg', 'File0049776.jpg', 'File0054836.jpg', 'File0095243.jpg', 'File0078749.jpg', 'File0055780.jpg', 'File0089838.jpg', 'File0078579.jpg', 'File0079502.jpg', 'File0073728.jpg', 'File0078020.jpg', 'File0048165.jpg', 'File0050423.jpg', 'File0078607.jpg', 'File0074145.jpg', 'File0047603.jpg', 'File0050068.jpg', 'File0077874.jpg', 'File0070491.jpg', 'File0094759.jpg', 'File0093410.jpg', 'File0069730.jpg', 'File0047748.jpg', 'File0050277.jpg', 'File0080866.jpg', 'File0051419.jpg', 'File0091184.jpg', 'File0072431.jpg', 'File0073409.jpg', 'File0050135.jpg', 'File0055782.jpg', 'File0070134.jpg', 'File0049768.jpg', 'File0079622.jpg', 'File0081195.jpg', 'File0055437.jpg', 'File0079709.jpg', 'File0073070.jpg', 'File0078060.jpg', 'File0094362.jpg', 'File0054188.jpg', 'File0072800.jpg', 'File0047350.jpg', 'File0055365.jpg', 'File0073302.jpg', 'File0091694.jpg', 'File0072585.jpg', 'File0078303.jpg', 'File0073397.jpg', 'File0051360.jpg', 'File0080470.jpg', 'File0078135.jpg', 'File0051666.jpg', 'File0047322.jpg', 'File0072302.jpg', 'File0093081.jpg', 'File0078419.jpg', 'File0056774.jpg', 'File0056477.jpg', 'File0090052.jpg', 'File0076560.jpg', 'File0053456.jpg', 'File0092672.jpg', 'File0075471.jpg', 'File0074210.jpg', 'File0095718.jpg', 'File0072627.jpg', 'File0072804.jpg', 'File0050541.jpg', 'File0076938.jpg', 'File0056572.jpg', 'File0092980.jpg', 'File0050958.jpg', 'File0071433.jpg', 'File0053153.jpg', 'File0091368.jpg', 'File0079783.jpg', 'File0091306.jpg', 'File0076158.jpg', 'File0072032.jpg', 'File0071299.jpg', 'File0071771.jpg', 'File0075910.jpg', 'File0093298.jpg', 'File0054683.jpg', 'File0094989.jpg', 'File0070768.jpg', 'File0072696.jpg', 'File0089850.jpg', 'File0047946.jpg', 'File0050822.jpg', 'File0079378.jpg', 'File0090492.jpg', 'File0049381.jpg', 'File0055575.jpg', 'File0073031.jpg', 'File0072293.jpg', 'File0072842.jpg', 'File0093544.jpg', 'File0055690.jpg', 'File0081235.jpg', 'File0095879.jpg', 'File0094584.jpg', 'File0054065.jpg', 'File0072870.jpg', 'File0047736.jpg', 'File0095906.jpg', 'File0074486.jpg', 'File0047803.jpg', 'File0048321.jpg', 'File0091107.jpg', 'File0090077.jpg', 'File0073899.jpg', 'File0079295.jpg', 'File0047616.jpg', 'File0077583.jpg', 'File0091831.jpg', 'File0073583.jpg', 'File0054875.jpg', 'File0072634.jpg', 'File0090156.jpg', 'File0054297.jpg', 'File0080517.jpg', 'File0073325.jpg', 'File0074669.jpg', 'File0095057.jpg', 'File0091193.jpg', 'File0092200.jpg', 'File0091034.jpg', 'File0076632.jpg', 'File0076115.jpg', 'File0053554.jpg', 'File0092328.jpg', 'File0094914.jpg', 'File0076503.jpg', 'File0048182.jpg', 'File0047516.jpg', 'File0074539.jpg', 'File0054814.jpg', 'File0070032.jpg', 'File0094588.jpg', 'File0076005.jpg', 'File0076331.jpg', 'File0079472.jpg', 'File0091713.jpg', 'File0079237.jpg', 'File0090350.jpg', 'File0072346.jpg', 'File0073099.jpg', 'File0054550.jpg', 'File0056775.jpg', 'File0078282.jpg', 'File0049389.jpg', 'File0078559.jpg', 'File0072460.jpg', 'File0074343.jpg', 'File0079520.jpg', 'File0079887.jpg', 'File0091612.jpg', 'File0051501.jpg', 'File0074602.jpg', 'File0072082.jpg', 'File0073867.jpg', 'File0053542.jpg', 'File0094590.jpg', 'File0089824.jpg', 'File0052608.jpg', 'File0049074.jpg', 'File0051757.jpg', 'File0050885.jpg', 'File0071087.jpg', 'File0092111.jpg', 'File0079269.jpg', 'File0074894.jpg', 'File0047281.jpg', 'File0071257.jpg', 'File0078785.jpg', 'File0056431.jpg', 'File0074973.jpg', 'File0049800.jpg', 'File0080001.jpg', 'File0054713.jpg', 'File0079071.jpg', 'File0052064.jpg', 'File0055081.jpg', 'File0092860.jpg', 'File0073733.jpg', 'File0074586.jpg', 'File0091309.jpg', 'File0095319.jpg', 'File0054988.jpg', 'File0075094.jpg', 'File0080215.jpg', 'File0076723.jpg', 'File0052150.jpg', 'File0054807.jpg', 'File0049159.jpg', 'File0051461.jpg', 'File0053439.jpg', 'File0051165.jpg', 'File0056449.jpg', 'File0051557.jpg', 'File0093692.jpg', 'File0073731.jpg', 'File0076804.jpg', 'File0093513.jpg', 'File0077618.jpg', 'File0091695.jpg', 'File0076315.jpg', 'File0092011.jpg', 'File0092811.jpg', 'File0078391.jpg', 'File0090278.jpg', 'File0094479.jpg', 'File0053521.jpg', 'File0053022.jpg', 'File0095883.jpg', 'File0050125.jpg', 'File0056764.jpg', 'File0093978.jpg', 'File0056597.jpg', 'File0048402.jpg', 'File0051879.jpg', 'File0051407.jpg', 'File0081234.jpg', 'File0054584.jpg', 'File0072521.jpg', 'File0092055.jpg', 'File0076464.jpg', 'File0071203.jpg', 'File0081184.jpg', 'File0053659.jpg', 'File0050725.jpg', 'File0051220.jpg', 'File0074467.jpg', 'File0076778.jpg', 'File0047777.jpg', 'File0054565.jpg', 'File0072781.jpg', 'File0070273.jpg', 'File0053868.jpg', 'File0079549.jpg', 'File0071427.jpg', 'File0051897.jpg', 'File0048882.jpg', 'File0071895.jpg', 'File0054984.jpg', 'File0051590.jpg', 'File0070051.jpg', 'File0091042.jpg', 'File0047219.jpg', 'File0049385.jpg', 'File0091441.jpg', 'File0054466.jpg', 'File0073623.jpg', 'File0051602.jpg', 'File0078206.jpg', 'File0072882.jpg', 'File0051870.jpg', 'File0078452.jpg', 'File0070515.jpg', 'File0056463.jpg', 'File0078583.jpg', 'File0073999.jpg', 'File0076342.jpg', 'File0072965.jpg', 'File0074994.jpg', 'File0053194.jpg', 'File0091823.jpg', 'File0047531.jpg', 'File0050992.jpg', 'File0091015.jpg', 'File0053573.jpg', 'File0092611.jpg', 'File0054084.jpg', 'File0093283.jpg', 'File0092640.jpg', 'File0050919.jpg', 'File0090995.jpg', 'File0056633.jpg', 'File0047585.jpg', 'File0075547.jpg', 'File0076630.jpg', 'File0093769.jpg', 'File0054697.jpg', 'File0095372.jpg', 'File0079649.jpg', 'File0075498.jpg', 'File0070331.jpg', 'File0053245.jpg', 'File0072470.jpg', 'File0073507.jpg', 'File0072040.jpg', 'File0073429.jpg', 'File0071560.jpg', 'File0093924.jpg', 'File0093831.jpg', 'File0054809.jpg', 'File0076832.jpg', 'File0091952.jpg', 'File0080410.jpg', 'File0047403.jpg', 'File0091418.jpg', 'File0078112.jpg', 'File0050311.jpg', 'File0075160.jpg', 'File0094532.jpg', 'File0092096.jpg', 'File0051807.jpg', 'File0093614.jpg', 'File0070596.jpg', 'File0048093.jpg', 'File0049710.jpg', 'File0056383.jpg', 'File0072408.jpg', 'File0047661.jpg', 'File0048593.jpg', 'File0090496.jpg', 'File0078830.jpg', 'File0053067.jpg', 'File0047676.jpg', 'File0074901.jpg', 'File0070034.jpg', 'File0075263.jpg', 'File0053061.jpg', 'File0071277.jpg', 'File0054350.jpg', 'File0075363.jpg', 'File0094452.jpg', 'File0072613.jpg', 'File0056396.jpg', 'File0074028.jpg', 'File0051382.jpg', 'File0070500.jpg', 'File0073508.jpg', 'File0049454.jpg', 'File0095801.jpg', 'File0050697.jpg', 'File0052463.jpg', 'File0090602.jpg', 'File0090816.jpg', 'File0051239.jpg', 'File0075610.jpg', 'File0055949.jpg', 'File0090257.jpg', 'File0049718.jpg', 'File0052010.jpg', 'File0095759.jpg', 'File0077513.jpg', 'File0051712.jpg', 'File0071086.jpg', 'File0093895.jpg', 'File0079217.jpg', 'File0077487.jpg', 'File0090856.jpg', 'File0070586.jpg', 'File0049792.jpg', 'File0080756.jpg', 'File0053121.jpg', 'File0074833.jpg', 'File0079773.jpg', 'File0095852.jpg', 'File0092613.jpg', 'File0048975.jpg', 'File0049201.jpg', 'File0053249.jpg', 'File0073989.jpg', 'File0089887.jpg', 'File0053427.jpg', 'File0056063.jpg', 'File0048043.jpg', 'File0079198.jpg', 'File0051022.jpg', 'File0092608.jpg', 'File0048428.jpg', 'File0071748.jpg', 'File0070842.jpg', 'File0050351.jpg', 'File0071522.jpg', 'File0071170.jpg', 'File0095229.jpg', 'File0078305.jpg', 'File0071425.jpg', 'File0076026.jpg', 'File0051608.jpg', 'File0090304.jpg', 'File0055315.jpg', 'File0077269.jpg', 'File0051460.jpg', 'File0050858.jpg', 'File0079042.jpg', 'File0079873.jpg', 'File0078207.jpg', 'File0054894.jpg', 'File0049129.jpg', 'File0073710.jpg', 'File0053906.jpg', 'File0047342.jpg', 'File0052979.jpg', 'File0093870.jpg', 'File0074361.jpg', 'File0094331.jpg', 'File0095733.jpg', 'File0073415.jpg', 'File0076353.jpg', 'File0049773.jpg', 'File0052682.jpg', 'File0071278.jpg', 'File0070584.jpg', 'File0075713.jpg', 'File0051340.jpg', 'File0080636.jpg', 'File0073095.jpg', 'File0071715.jpg', 'File0051797.jpg', 'File0074000.jpg', 'File0073411.jpg', 'File0048221.jpg', 'File0079115.jpg', 'File0094804.jpg', 'File0071406.jpg', 'File0079677.jpg', 'File0075258.jpg', 'File0053757.jpg', 'File0079935.jpg', 'File0094764.jpg', 'File0094122.jpg', 'File0053372.jpg', 'File0049354.jpg', 'File0074395.jpg', 'File0094703.jpg', 'File0080524.jpg', 'File0069984.jpg', 'File0092059.jpg', 'File0050877.jpg', 'File0090652.jpg', 'File0048448.jpg', 'File0052821.jpg', 'File0093017.jpg', 'File0076624.jpg', 'File0050837.jpg', 'File0094625.jpg', 'File0047936.jpg', 'File0071879.jpg', 'File0052001.jpg', 'File0054227.jpg', 'File0076223.jpg', 'File0047315.jpg', 'File0076788.jpg', 'File0070690.jpg', 'File0078576.jpg', 'File0071131.jpg', 'File0076993.jpg', 'File0073015.jpg', 'File0095001.jpg', 'File0071410.jpg', 'File0078284.jpg', 'File0051119.jpg', 'File0081079.jpg', 'File0077059.jpg', 'File0077996.jpg', 'File0056713.jpg', 'File0049675.jpg', 'File0090976.jpg', 'File0050959.jpg', 'File0095763.jpg', 'File0049322.jpg', 'File0054401.jpg', 'File0073833.jpg', 'File0072410.jpg', 'File0072311.jpg', 'File0090474.jpg', 'File0070031.jpg', 'File0070693.jpg', 'File0077232.jpg', 'File0091944.jpg', 'File0079852.jpg', 'File0095455.jpg', 'File0078387.jpg', 'File0053424.jpg', 'File0092433.jpg', 'File0055441.jpg', 'File0048597.jpg', 'File0081216.jpg', 'File0049281.jpg', 'File0072010.jpg', 'File0051486.jpg', 'File0080278.jpg', 'File0071700.jpg', 'File0070829.jpg', 'File0051658.jpg', 'File0076226.jpg', 'File0047804.jpg', 'File0093595.jpg', 'File0048502.jpg', 'File0052778.jpg', 'File0091130.jpg', 'File0094511.jpg']\n"
     ]
    }
   ],
   "source": []
  },
  {
   "cell_type": "code",
   "execution_count": 7,
   "metadata": {},
   "outputs": [],
   "source": [
    "import shutil\n",
    "to_ = \"/home/class1/Document/project/largewaste/dataset/randomLargeWasteImageByKimHae/train\"\n",
    "\n",
    "for file_name in train_random_extraction_list:\n",
    "    from_ = random_path_dir + '/' + file_name\n",
    "    shutil.move(from_,to_)"
   ]
  },
  {
   "cell_type": "code",
   "execution_count": 9,
   "metadata": {},
   "outputs": [],
   "source": [
    "random_path_dir = \"/home/class1/Document/project/largewaste/dataset/randomLargeWasteImageByKimHae\"\n",
    "random_image_list = os.listdir(random_path_dir)\n",
    "random_image_list_jpg = [file for file in random_image_list if file.endswith(\".jpg\")]\n",
    "train_random_extraction_list = random.sample(random_image_list_jpg,371)"
   ]
  },
  {
   "cell_type": "code",
   "execution_count": 10,
   "metadata": {},
   "outputs": [],
   "source": [
    "import shutil\n",
    "to_ = \"/home/class1/Document/project/largewaste/dataset/randomLargeWasteImageByKimHae/test\"\n",
    "\n",
    "for file_name in train_random_extraction_list:\n",
    "    from_ = random_path_dir + '/' + file_name\n",
    "    shutil.move(from_,to_)"
   ]
  },
  {
   "cell_type": "code",
   "execution_count": null,
   "metadata": {},
   "outputs": [],
   "source": [
    "import shutil\n",
    "to_ = \"/home/class1/Document/project/largewaste/dataset/randomLargeWasteImageByKimHae/train\"\n",
    "\n",
    "for file_name in train_random_extraction_list:\n",
    "    from_ = random_path_dir + '/' + file_name\n",
    "    shutil.move(from_,to_)"
   ]
  }
 ]
}
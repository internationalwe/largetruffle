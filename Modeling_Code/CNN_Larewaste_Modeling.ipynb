{
 "cells": [
  {
   "cell_type": "code",
   "execution_count": 2,
   "id": "5c48bd59",
   "metadata": {},
   "outputs": [],
   "source": [
    "import tensorflow as tf\n",
    "import numpy as np\n",
    "from tensorflow.keras.preprocessing.image import ImageDataGenerator\n",
    "from tensorflow.keras.models import Sequential\n",
    "from tensorflow.keras.layers import Conv2D, Activation, MaxPooling2D, Dropout, Flatten, Dense,AveragePooling2D\n",
    "from tensorflow.keras import optimizers, initializers, regularizers, metrics\n",
    "from tensorflow.keras.callbacks import EarlyStopping, ModelCheckpoint\n",
    "import matplotlib.pyplot as plt"
   ]
  },
  {
   "cell_type": "code",
   "execution_count": 3,
   "id": "2e1fb697",
   "metadata": {},
   "outputs": [
    {
     "name": "stdout",
     "output_type": "stream",
     "text": [
      "Found 404 images belonging to 2 classes.\n",
      "Found 132 images belonging to 2 classes.\n",
      "Found 132 images belonging to 2 classes.\n"
     ]
    }
   ],
   "source": [
    "import tensorflow as tf\n",
    "from tensorflow.keras.preprocessing import image_dataset_from_directory\n",
    "from PIL import ImageFile\n",
    "ImageFile.LOAD_TRUNCATED_IMAGES = True\n",
    "\n",
    "np.random.seed(3)\n",
    "tf.random.set_seed(3)\n",
    "\n",
    "train_datagen = ImageDataGenerator(rescale = 1./255)\n",
    "validation_datagen = ImageDataGenerator(rescale = 1./255)\n",
    "test_datagen =  ImageDataGenerator(rescale = 1./255)\n",
    "\n",
    "chair_train_generator = train_datagen.flow_from_directory(\n",
    "       '/home/class1/2021.06.28/최종데이터셋_의자/train',   #학습셋이 있는 폴더의 위치입니다.\n",
    "       target_size=(150, 150),\n",
    "       batch_size=4,\n",
    "       class_mode='binary')\n",
    "\n",
    "chair_validation_generator = validation_datagen.flow_from_directory(\n",
    "       '/home/class1/2021.06.28/최종데이터셋_의자/validation',   #학습셋이 있는 폴더의 위치입니다.\n",
    "       target_size=(150, 150),\n",
    "       batch_size=4,\n",
    "       class_mode='binary')\n",
    "\n",
    "chair_test_generator = test_datagen.flow_from_directory(\n",
    "       '/home/class1/2021.06.28/최종데이터셋_의자/test',   #학습셋이 있는 폴더의 위치입니다.\n",
    "       target_size=(150, 150),\n",
    "       batch_size=4,\n",
    "       class_mode='binary')"
   ]
  },
  {
   "cell_type": "code",
   "execution_count": 66,
   "id": "7fa03b72",
   "metadata": {},
   "outputs": [
    {
     "name": "stdout",
     "output_type": "stream",
     "text": [
      "Model: \"sequential_9\"\n",
      "_________________________________________________________________\n",
      "Layer (type)                 Output Shape              Param #   \n",
      "=================================================================\n",
      "conv2d_30 (Conv2D)           (None, 150, 150, 64)      1792      \n",
      "_________________________________________________________________\n",
      "max_pooling2d_23 (MaxPooling (None, 75, 75, 64)        0         \n",
      "_________________________________________________________________\n",
      "conv2d_31 (Conv2D)           (None, 75, 75, 256)       147712    \n",
      "_________________________________________________________________\n",
      "conv2d_32 (Conv2D)           (None, 75, 75, 512)       1180160   \n",
      "_________________________________________________________________\n",
      "max_pooling2d_24 (MaxPooling (None, 37, 37, 512)       0         \n",
      "_________________________________________________________________\n",
      "conv2d_33 (Conv2D)           (None, 37, 37, 1024)      4719616   \n",
      "_________________________________________________________________\n",
      "max_pooling2d_25 (MaxPooling (None, 18, 18, 1024)      0         \n",
      "_________________________________________________________________\n",
      "conv2d_34 (Conv2D)           (None, 18, 18, 512)       4719104   \n",
      "_________________________________________________________________\n",
      "max_pooling2d_26 (MaxPooling (None, 9, 9, 512)         0         \n",
      "_________________________________________________________________\n",
      "flatten_7 (Flatten)          (None, 41472)             0         \n",
      "_________________________________________________________________\n",
      "dense_14 (Dense)             (None, 256)               10617088  \n",
      "_________________________________________________________________\n",
      "dropout_7 (Dropout)          (None, 256)               0         \n",
      "_________________________________________________________________\n",
      "dense_15 (Dense)             (None, 1)                 257       \n",
      "=================================================================\n",
      "Total params: 21,385,729\n",
      "Trainable params: 21,385,729\n",
      "Non-trainable params: 0\n",
      "_________________________________________________________________\n"
     ]
    }
   ],
   "source": [
    "chair_model = Sequential()\n",
    "chair_model.add(Conv2D(64, kernel_size=(3, 3), input_shape=(150, 150, 3), activation = 'relu', padding='same'))\n",
    "chair_model.add(MaxPooling2D(pool_size=2))\n",
    "chair_model.add(Conv2D(256, kernel_size=(3, 3), activation = 'relu', padding='same'))\n",
    "chair_model.add(Conv2D(512, kernel_size=(3, 3), activation = 'relu', padding='same'))\n",
    "chair_model.add(MaxPooling2D(pool_size=2))\n",
    "chair_model.add(Conv2D(1024, kernel_size=(3, 3), activation = 'relu', padding='same'))\n",
    "chair_model.add(MaxPooling2D(pool_size=2))\n",
    "chair_model.add(Conv2D(512, kernel_size=(3, 3), activation = 'relu', padding='same'))\n",
    "chair_model.add(MaxPooling2D(pool_size=2))\n",
    "chair_model.add(Flatten())\n",
    "chair_model.add(Dense(256, activation='relu'))\n",
    "chair_model.add(Dropout(0.5))\n",
    "chair_model.add(Dense(1, activation='sigmoid'))\n",
    "chair_model.compile(loss = 'binary_crossentropy', optimizer = 'RMSProp', metrics=['accuracy'])\n",
    "\n",
    "chair_model.summary()"
   ]
  },
  {
   "cell_type": "code",
   "execution_count": 57,
   "id": "05f8d13c",
   "metadata": {},
   "outputs": [
    {
     "data": {
      "text/plain": [
       "(150, 150, 3)"
      ]
     },
     "execution_count": 57,
     "metadata": {},
     "output_type": "execute_result"
    }
   ],
   "source": [
    "chair_train_generator[0][0][0].shape"
   ]
  },
  {
   "cell_type": "code",
   "execution_count": 86,
   "id": "c8d592e8",
   "metadata": {},
   "outputs": [
    {
     "name": "stdout",
     "output_type": "stream",
     "text": [
      "Model: \"sequential_17\"\n",
      "_________________________________________________________________\n",
      "Layer (type)                 Output Shape              Param #   \n",
      "=================================================================\n",
      "conv2d_49 (Conv2D)           (None, 150, 150, 6)       294       \n",
      "_________________________________________________________________\n",
      "average_pooling2d_14 (Averag (None, 75, 75, 6)         0         \n",
      "_________________________________________________________________\n",
      "conv2d_50 (Conv2D)           (None, 72, 72, 16)        1552      \n",
      "_________________________________________________________________\n",
      "average_pooling2d_15 (Averag (None, 36, 36, 16)        0         \n",
      "_________________________________________________________________\n",
      "flatten_15 (Flatten)         (None, 20736)             0         \n",
      "_________________________________________________________________\n",
      "dense_37 (Dense)             (None, 120)               2488440   \n",
      "_________________________________________________________________\n",
      "dense_38 (Dense)             (None, 84)                10164     \n",
      "_________________________________________________________________\n",
      "dense_39 (Dense)             (None, 1)                 85        \n",
      "=================================================================\n",
      "Total params: 2,500,535\n",
      "Trainable params: 2,500,535\n",
      "Non-trainable params: 0\n",
      "_________________________________________________________________\n"
     ]
    }
   ],
   "source": [
    "lenet_5_model = Sequential()\n",
    "lenet_5_model.add(Conv2D(6, kernel_size=(4,4), strides=1,  activation='relu', input_shape=chair_train_generator[0][0][0].shape, padding='same')), #C1\n",
    "lenet_5_model.add(AveragePooling2D()), #S2\n",
    "lenet_5_model.add(Conv2D(16, kernel_size=(4,4), strides=1, activation='relu', padding='valid')), #C3\n",
    "lenet_5_model.add(AveragePooling2D()), #S4\n",
    "lenet_5_model.add(Flatten()), #Flatten\n",
    "lenet_5_model.add(Dense(120, activation='relu')), #C5\n",
    "lenet_5_model.add(Dense(84, activation='relu')), #F6\n",
    "lenet_5_model.add(Dense(1, activation='sigmoid')) #Output layer\n",
    "lenet_5_model.compile(loss = 'binary_crossentropy', optimizer = 'adam', metrics=['accuracy'])\n",
    "lenet_5_model.summary()\n"
   ]
  },
  {
   "cell_type": "code",
   "execution_count": 68,
   "id": "b77574ac",
   "metadata": {},
   "outputs": [],
   "source": [
    "from tensorflow.keras.callbacks import ModelCheckpoint, EarlyStopping\n",
    "\n",
    "earlystopping = EarlyStopping(monitor='val_loss', patience=3) # 모니터 기준 설정 (val loss) \n",
    "                                                               # 10회 Epoch동안 개선되지 않는다면 종료\n",
    "    \n",
    "\n",
    "from tensorflow.keras.preprocessing.image import ImageDataGenerator\n",
    "from tensorflow.keras import optimizers\n"
   ]
  },
  {
   "cell_type": "code",
   "execution_count": 87,
   "id": "6afd9230",
   "metadata": {},
   "outputs": [
    {
     "ename": "SyntaxError",
     "evalue": "invalid syntax (<ipython-input-87-2ccdbb509167>, line 6)",
     "output_type": "error",
     "traceback": [
      "\u001b[0;36m  File \u001b[0;32m\"<ipython-input-87-2ccdbb509167>\"\u001b[0;36m, line \u001b[0;32m6\u001b[0m\n\u001b[0;31m    validation_data=chair_validation_generator,\u001b[0m\n\u001b[0m                  ^\u001b[0m\n\u001b[0;31mSyntaxError\u001b[0m\u001b[0;31m:\u001b[0m invalid syntax\n"
     ]
    }
   ],
   "source": [
    "with tf.device('/GPU:0'):\n",
    "    chair_history = chair_model.fit(\n",
    "        chair_train_generator,\n",
    "        steps_per_epoch=101,\n",
    "        epochs=10,dd\n",
    "        validation_data=chair_validation_generator,\n",
    "        validation_steps=33,\n",
    "        verbose=1,\n",
    "        callbacks=[earlystopping]\n",
    "    )"
   ]
  },
  {
   "cell_type": "code",
   "execution_count": 88,
   "id": "ca0a39cd",
   "metadata": {},
   "outputs": [
    {
     "name": "stdout",
     "output_type": "stream",
     "text": [
      "Epoch 1/10\n",
      "101/101 [==============================] - 34s 333ms/step - loss: 0.7244 - accuracy: 0.5657 - val_loss: 0.4930 - val_accuracy: 0.6894\n",
      "Epoch 2/10\n",
      "101/101 [==============================] - 34s 334ms/step - loss: 0.4051 - accuracy: 0.8223 - val_loss: 0.2370 - val_accuracy: 0.9091\n",
      "Epoch 3/10\n",
      "101/101 [==============================] - 34s 338ms/step - loss: 0.2528 - accuracy: 0.8884 - val_loss: 0.2282 - val_accuracy: 0.9091\n",
      "Epoch 4/10\n",
      "101/101 [==============================] - 34s 333ms/step - loss: 0.1663 - accuracy: 0.9401 - val_loss: 0.4459 - val_accuracy: 0.8106\n",
      "Epoch 5/10\n",
      "101/101 [==============================] - 33s 330ms/step - loss: 0.1186 - accuracy: 0.9599 - val_loss: 0.5978 - val_accuracy: 0.7652\n",
      "Epoch 6/10\n",
      "101/101 [==============================] - 34s 334ms/step - loss: 0.0528 - accuracy: 0.9817 - val_loss: 0.7943 - val_accuracy: 0.7576\n"
     ]
    }
   ],
   "source": [
    "with tf.device('/GPU:0'):\n",
    "    chair1_history = lenet_5_model.fit(\n",
    "        chair_train_generator,\n",
    "        steps_per_epoch=101,\n",
    "        epochs=10,\n",
    "        validation_data=chair_validation_generator,\n",
    "        validation_steps=33,\n",
    "        verbose=1,\n",
    "        callbacks=[earlystopping]\n",
    "    )"
   ]
  },
  {
   "cell_type": "code",
   "execution_count": 18,
   "id": "b2fc2fbb",
   "metadata": {},
   "outputs": [
    {
     "name": "stdout",
     "output_type": "stream",
     "text": [
      "Found 260 images belonging to 2 classes.\n",
      "Found 86 images belonging to 2 classes.\n",
      "Found 86 images belonging to 2 classes.\n"
     ]
    }
   ],
   "source": [
    "ImageFile.LOAD_TRUNCATED_IMAGES = True\n",
    "\n",
    "np.random.seed(3)\n",
    "tf.random.set_seed(3)\n",
    "\n",
    "train_datagen = ImageDataGenerator(rescale = 1./255)\n",
    "validation_datagen = ImageDataGenerator(rescale = 1./255)\n",
    "test_datagen =  ImageDataGenerator(rescale = 1./255)\n",
    "\n",
    "drawer_train_generator = train_datagen.flow_from_directory(\n",
    "       '/home/class1/2021.06.28/최종데이터셋_서랍장/train',   #학습셋이 있는 폴더의 위치입니다.\n",
    "       target_size=(150, 150),\n",
    "       batch_size=4,\n",
    "       class_mode='binary')\n",
    "\n",
    "drawer_validation_generator = validation_datagen.flow_from_directory(\n",
    "       '/home/class1/2021.06.28/최종데이터셋_서랍장/validation',   #학습셋이 있는 폴더의 위치입니다.\n",
    "       target_size=(150, 150),\n",
    "       batch_size=4,\n",
    "       class_mode='binary')\n",
    "\n",
    "drawer_test_generator = test_datagen.flow_from_directory(\n",
    "       '/home/class1/2021.06.28/최종데이터셋_서랍장/test',   #학습셋이 있는 폴더의 위치입니다.\n",
    "       target_size=(150, 150),\n",
    "       batch_size=4,\n",
    "       class_mode='binary')"
   ]
  },
  {
   "cell_type": "code",
   "execution_count": 27,
   "id": "d5bf199f",
   "metadata": {},
   "outputs": [
    {
     "name": "stdout",
     "output_type": "stream",
     "text": [
      "Epoch 1/10\n",
      "65/65 [==============================] - 26s 401ms/step - loss: 0.7075 - accuracy: 0.7769 - val_loss: 0.3581 - val_accuracy: 0.8214\n",
      "Epoch 2/10\n",
      "65/65 [==============================] - 26s 394ms/step - loss: 0.3178 - accuracy: 0.9038 - val_loss: 0.4691 - val_accuracy: 0.8690\n",
      "Epoch 3/10\n",
      "65/65 [==============================] - 26s 398ms/step - loss: 0.1694 - accuracy: 0.9308 - val_loss: 0.5696 - val_accuracy: 0.8095\n",
      "Epoch 4/10\n",
      "65/65 [==============================] - 26s 402ms/step - loss: 0.1072 - accuracy: 0.9692 - val_loss: 0.7149 - val_accuracy: 0.8333\n"
     ]
    }
   ],
   "source": [
    "with tf.device('/GPU:0'):\n",
    "    drawer_history = model.fit(\n",
    "        drawer_train_generator,\n",
    "        steps_per_epoch=65,\n",
    "        epochs=10,\n",
    "        validation_data=drawer_validation_generator,\n",
    "        validation_steps=21,\n",
    "        verbose=1,\n",
    "        callbacks=[earlystopping]\n",
    "    )"
   ]
  },
  {
   "cell_type": "code",
   "execution_count": 24,
   "id": "8969f56f",
   "metadata": {},
   "outputs": [
    {
     "name": "stdout",
     "output_type": "stream",
     "text": [
      "Found 274 images belonging to 2 classes.\n",
      "Found 92 images belonging to 2 classes.\n",
      "Found 94 images belonging to 2 classes.\n"
     ]
    }
   ],
   "source": [
    "ImageFile.LOAD_TRUNCATED_IMAGES = True\n",
    "\n",
    "np.random.seed(3)\n",
    "tf.random.set_seed(3)\n",
    "\n",
    "train_datagen = ImageDataGenerator(rescale = 1./255)\n",
    "validation_datagen = ImageDataGenerator(rescale = 1./255)\n",
    "test_datagen =  ImageDataGenerator(rescale = 1./255)\n",
    "\n",
    "desk_train_generator = train_datagen.flow_from_directory(\n",
    "       '/home/class1/2021.06.28/최종데이터셋_책상/train',   #학습셋이 있는 폴더의 위치입니다.\n",
    "       target_size=(150, 150),\n",
    "       batch_size=4,\n",
    "       class_mode='binary')\n",
    "\n",
    "desk_validation_generator = validation_datagen.flow_from_directory(\n",
    "       '/home/class1/2021.06.28/최종데이터셋_책상/validation',   #학습셋이 있는 폴더의 위치입니다.\n",
    "       target_size=(150, 150),\n",
    "       batch_size=4,\n",
    "       class_mode='binary')\n",
    "\n",
    "desk_test_generator = test_datagen.flow_from_directory(\n",
    "       '/home/class1/2021.06.28/최종데이터셋_책상/test',   #학습셋이 있는 폴더의 위치입니다.\n",
    "       target_size=(150, 150),\n",
    "       batch_size=4,\n",
    "       class_mode='binary')"
   ]
  },
  {
   "cell_type": "code",
   "execution_count": 28,
   "id": "4fa65f55",
   "metadata": {},
   "outputs": [
    {
     "name": "stdout",
     "output_type": "stream",
     "text": [
      "Epoch 1/10\n",
      "65/65 [==============================] - 24s 368ms/step - loss: 0.4710 - accuracy: 0.8488 - val_loss: 0.4553 - val_accuracy: 0.8804\n",
      "Epoch 2/10\n",
      "65/65 [==============================] - 23s 354ms/step - loss: 0.3146 - accuracy: 0.9225 - val_loss: 0.4124 - val_accuracy: 0.9022\n",
      "Epoch 3/10\n",
      "65/65 [==============================] - 24s 359ms/step - loss: 0.1464 - accuracy: 0.9690 - val_loss: 0.3445 - val_accuracy: 0.8696\n",
      "Epoch 4/10\n",
      "65/65 [==============================] - 23s 355ms/step - loss: 0.0671 - accuracy: 0.9806 - val_loss: 0.4707 - val_accuracy: 0.9022\n",
      "Epoch 5/10\n",
      "65/65 [==============================] - 24s 366ms/step - loss: 0.1259 - accuracy: 0.9806 - val_loss: 0.4461 - val_accuracy: 0.9130\n",
      "Epoch 6/10\n",
      "65/65 [==============================] - 23s 365ms/step - loss: 0.2110 - accuracy: 0.9612 - val_loss: 0.5028 - val_accuracy: 0.8913\n"
     ]
    }
   ],
   "source": [
    "with tf.device('/GPU:1'):\n",
    "    desk_history = model.fit(\n",
    "        desk_train_generator,\n",
    "        steps_per_epoch=65,\n",
    "        epochs=10,\n",
    "        validation_data=desk_validation_generator,\n",
    "        validation_steps=23,\n",
    "        verbose=1,\n",
    "        callbacks=[earlystopping]\n",
    "    )"
   ]
  },
  {
   "cell_type": "code",
   "execution_count": 29,
   "id": "7547a52a",
   "metadata": {},
   "outputs": [
    {
     "name": "stdout",
     "output_type": "stream",
     "text": [
      "Found 97 images belonging to 2 classes.\n",
      "Found 34 images belonging to 2 classes.\n",
      "Found 34 images belonging to 2 classes.\n"
     ]
    }
   ],
   "source": [
    "ImageFile.LOAD_TRUNCATED_IMAGES = True\n",
    "\n",
    "np.random.seed(3)\n",
    "tf.random.set_seed(3)\n",
    "\n",
    "train_datagen = ImageDataGenerator(rescale = 1./255)\n",
    "validation_datagen = ImageDataGenerator(rescale = 1./255)\n",
    "test_datagen =  ImageDataGenerator(rescale = 1./255)\n",
    "\n",
    "bed_train_generator = train_datagen.flow_from_directory(\n",
    "       '/home/class1/2021.06.28/최종데이터셋_침대/train',   #학습셋이 있는 폴더의 위치입니다.\n",
    "       target_size=(150, 150),\n",
    "       batch_size=4,\n",
    "       class_mode='binary')\n",
    "\n",
    "bed_validation_generator = validation_datagen.flow_from_directory(\n",
    "       '/home/class1/2021.06.28/최종데이터셋_침대/validation',   #학습셋이 있는 폴더의 위치입니다.\n",
    "       target_size=(150, 150),\n",
    "       batch_size=4,\n",
    "       class_mode='binary')\n",
    "\n",
    "bed_test_generator = test_datagen.flow_from_directory(\n",
    "       '/home/class1/2021.06.28/최종데이터셋_침대/test',   #학습셋이 있는 폴더의 위치입니다.\n",
    "       target_size=(150, 150),\n",
    "       batch_size=4,\n",
    "       class_mode='binary')"
   ]
  },
  {
   "cell_type": "code",
   "execution_count": 30,
   "id": "2a76eaa6",
   "metadata": {},
   "outputs": [
    {
     "name": "stdout",
     "output_type": "stream",
     "text": [
      "Epoch 1/10\n",
      "24/24 [==============================] - 10s 442ms/step - loss: 1.6851 - accuracy: 0.6989 - val_loss: 0.3276 - val_accuracy: 0.8824\n",
      "Epoch 2/10\n",
      "24/24 [==============================] - 9s 406ms/step - loss: 0.3804 - accuracy: 0.8817 - val_loss: 0.5290 - val_accuracy: 0.7941\n",
      "Epoch 3/10\n",
      "24/24 [==============================] - 10s 411ms/step - loss: 0.2025 - accuracy: 0.9355 - val_loss: 0.4472 - val_accuracy: 0.7941\n",
      "Epoch 4/10\n",
      "24/24 [==============================] - 10s 422ms/step - loss: 0.1165 - accuracy: 0.9677 - val_loss: 0.1625 - val_accuracy: 0.9118\n",
      "Epoch 5/10\n",
      "24/24 [==============================] - 10s 401ms/step - loss: 0.1669 - accuracy: 0.9570 - val_loss: 0.3105 - val_accuracy: 0.9412\n",
      "Epoch 6/10\n",
      "24/24 [==============================] - 10s 406ms/step - loss: 0.0517 - accuracy: 0.9785 - val_loss: 0.1366 - val_accuracy: 0.9412\n",
      "Epoch 7/10\n",
      "24/24 [==============================] - 9s 387ms/step - loss: 0.0562 - accuracy: 0.9892 - val_loss: 0.3530 - val_accuracy: 0.9412\n",
      "Epoch 8/10\n",
      "24/24 [==============================] - 10s 417ms/step - loss: 8.9380e-04 - accuracy: 1.0000 - val_loss: 0.4536 - val_accuracy: 0.9412\n",
      "Epoch 9/10\n",
      "24/24 [==============================] - 10s 395ms/step - loss: 0.4105 - accuracy: 0.9677 - val_loss: 0.4891 - val_accuracy: 0.9118\n"
     ]
    }
   ],
   "source": [
    "with tf.device('/GPU:1'):\n",
    "    bed_history = model.fit(\n",
    "        bed_train_generator,\n",
    "        steps_per_epoch=24,\n",
    "        epochs=10,\n",
    "        validation_data=bed_validation_generator,\n",
    "        validation_steps=9,\n",
    "        verbose=1,\n",
    "        callbacks=[earlystopping]\n",
    "    )"
   ]
  },
  {
   "cell_type": "code",
   "execution_count": 89,
   "id": "089ba891",
   "metadata": {},
   "outputs": [
    {
     "name": "stdout",
     "output_type": "stream",
     "text": [
      "33/33 [==============================] - 11s 329ms/step - loss: 0.7368 - accuracy: 0.7424\n"
     ]
    }
   ],
   "source": [
    "evalution = lenet_5_model.evaluate(chair_test_generator,batch_size = 4)"
   ]
  },
  {
   "cell_type": "code",
   "execution_count": 35,
   "id": "6365ae74",
   "metadata": {},
   "outputs": [
    {
     "name": "stdout",
     "output_type": "stream",
     "text": [
      "[[1.0000000e+00]\n",
      " [1.0000000e+00]\n",
      " [9.9984193e-01]\n",
      " [1.0000000e+00]\n",
      " [1.0000000e+00]\n",
      " [8.1842583e-01]\n",
      " [1.0000000e+00]\n",
      " [3.8868158e-05]\n",
      " [9.9998498e-01]\n",
      " [5.3152653e-06]\n",
      " [1.1221528e-02]\n",
      " [1.0000000e+00]\n",
      " [9.9999976e-01]\n",
      " [1.0000000e+00]\n",
      " [4.9060742e-05]\n",
      " [1.0000000e+00]\n",
      " [1.0000000e+00]\n",
      " [1.0000000e+00]\n",
      " [1.0000000e+00]\n",
      " [1.0000000e+00]\n",
      " [1.0000000e+00]\n",
      " [1.0000000e+00]\n",
      " [2.1067415e-03]\n",
      " [4.7491877e-08]\n",
      " [1.0000000e+00]\n",
      " [6.3024956e-01]\n",
      " [1.0000000e+00]\n",
      " [1.0000000e+00]\n",
      " [9.6481377e-01]\n",
      " [1.0000000e+00]\n",
      " [1.0000000e+00]\n",
      " [7.8133678e-01]\n",
      " [3.4447219e-03]\n",
      " [6.7620527e-04]\n",
      " [2.9320982e-03]\n",
      " [1.0000000e+00]\n",
      " [9.9381155e-01]\n",
      " [2.4602714e-06]\n",
      " [9.6814256e-05]\n",
      " [2.3126254e-02]\n",
      " [9.3976118e-02]\n",
      " [1.0000000e+00]\n",
      " [8.3717990e-01]\n",
      " [8.1292719e-01]\n",
      " [2.6866928e-05]\n",
      " [9.9083751e-01]\n",
      " [1.0000000e+00]\n",
      " [9.7222012e-01]\n",
      " [1.0000000e+00]\n",
      " [1.0000000e+00]\n",
      " [2.8430622e-07]\n",
      " [1.0000000e+00]\n",
      " [2.2043152e-05]\n",
      " [8.3066529e-01]\n",
      " [9.9999988e-01]\n",
      " [1.0000000e+00]\n",
      " [9.9982482e-01]\n",
      " [1.7685325e-08]\n",
      " [9.9999976e-01]\n",
      " [9.9993384e-01]\n",
      " [6.7280257e-01]\n",
      " [1.0000000e+00]\n",
      " [9.9678028e-01]\n",
      " [8.1320268e-06]\n",
      " [1.9766908e-02]\n",
      " [1.0000000e+00]\n",
      " [4.9173104e-07]\n",
      " [9.9800020e-01]\n",
      " [1.0000000e+00]\n",
      " [1.0000000e+00]\n",
      " [2.2704921e-04]\n",
      " [1.0000000e+00]\n",
      " [6.1409206e-05]\n",
      " [3.1745088e-08]\n",
      " [1.0000000e+00]\n",
      " [9.7310007e-01]\n",
      " [9.9831700e-01]\n",
      " [9.9999857e-01]\n",
      " [1.0000000e+00]\n",
      " [1.0000000e+00]\n",
      " [1.0000000e+00]\n",
      " [1.0000000e+00]\n",
      " [1.0000000e+00]\n",
      " [9.7520286e-01]\n",
      " [9.9999976e-01]\n",
      " [6.0278040e-01]\n",
      " [1.4966455e-01]\n",
      " [1.0000000e+00]\n",
      " [1.0000000e+00]\n",
      " [3.9708466e-06]\n",
      " [9.9992537e-01]\n",
      " [1.1654178e-06]\n",
      " [3.4763798e-02]\n",
      " [9.9443024e-01]\n",
      " [1.3359961e-02]\n",
      " [8.7729436e-01]\n",
      " [1.7554088e-01]\n",
      " [9.9999917e-01]\n",
      " [1.0000000e+00]\n",
      " [1.0000000e+00]\n",
      " [1.0000000e+00]\n",
      " [3.1070758e-05]\n",
      " [1.0000000e+00]\n",
      " [1.0000000e+00]\n",
      " [1.3869397e-01]\n",
      " [9.9478108e-01]\n",
      " [8.5764784e-01]\n",
      " [2.9987905e-08]\n",
      " [9.9999774e-01]\n",
      " [1.0000000e+00]\n",
      " [1.0000000e+00]\n",
      " [4.9221605e-01]\n",
      " [3.6320105e-01]\n",
      " [1.0000000e+00]\n",
      " [3.7117392e-01]\n",
      " [1.0000000e+00]\n",
      " [9.8329067e-01]\n",
      " [9.9996388e-01]\n",
      " [1.0000000e+00]\n",
      " [1.0000000e+00]\n",
      " [1.0000000e+00]\n",
      " [9.9999380e-01]\n",
      " [5.4914664e-05]\n",
      " [1.0000000e+00]\n",
      " [1.0000000e+00]\n",
      " [9.5417112e-01]\n",
      " [8.0537505e-02]\n",
      " [1.2058570e-01]\n",
      " [7.4671116e-03]\n",
      " [3.6880988e-01]\n",
      " [1.0000000e+00]\n",
      " [1.0000000e+00]]\n"
     ]
    }
   ],
   "source": [
    "print(prediction)"
   ]
  },
  {
   "cell_type": "markdown",
   "id": "7abdadc0",
   "metadata": {},
   "source": [
    "## 서랍장"
   ]
  },
  {
   "cell_type": "code",
   "execution_count": 4,
   "id": "3eee0c74",
   "metadata": {},
   "outputs": [
    {
     "name": "stdout",
     "output_type": "stream",
     "text": [
      "Model: \"sequential\"\n",
      "_________________________________________________________________\n",
      "Layer (type)                 Output Shape              Param #   \n",
      "=================================================================\n",
      "conv2d (Conv2D)              (None, 150, 150, 6)       294       \n",
      "_________________________________________________________________\n",
      "average_pooling2d (AveragePo (None, 75, 75, 6)         0         \n",
      "_________________________________________________________________\n",
      "conv2d_1 (Conv2D)            (None, 72, 72, 16)        1552      \n",
      "_________________________________________________________________\n",
      "average_pooling2d_1 (Average (None, 36, 36, 16)        0         \n",
      "_________________________________________________________________\n",
      "flatten (Flatten)            (None, 20736)             0         \n",
      "_________________________________________________________________\n",
      "dense (Dense)                (None, 120)               2488440   \n",
      "_________________________________________________________________\n",
      "dense_1 (Dense)              (None, 84)                10164     \n",
      "_________________________________________________________________\n",
      "dense_2 (Dense)              (None, 1)                 85        \n",
      "=================================================================\n",
      "Total params: 2,500,535\n",
      "Trainable params: 2,500,535\n",
      "Non-trainable params: 0\n",
      "_________________________________________________________________\n"
     ]
    }
   ],
   "source": [
    "drawer_lenet_5_model = Sequential()\n",
    "drawer_lenet_5_model.add(Conv2D(6, kernel_size=(4,4), strides=1,  activation='relu', input_shape=chair_train_generator[0][0][0].shape, padding='same')), #C1\n",
    "drawer_lenet_5_model.add(AveragePooling2D()), #S2\n",
    "drawer_lenet_5_model.add(Conv2D(16, kernel_size=(4,4), strides=1, activation='relu', padding='valid')), #C3\n",
    "drawer_lenet_5_model.add(AveragePooling2D()), #S4\n",
    "drawer_lenet_5_model.add(Flatten()), #Flatten\n",
    "drawer_lenet_5_model.add(Dense(120, activation='relu')), #C5\n",
    "drawer_lenet_5_model.add(Dense(84, activation='relu')), #F6\n",
    "drawer_lenet_5_model.add(Dense(1, activation='sigmoid')) #Output layer\n",
    "drawer_lenet_5_model.compile(loss = 'binary_crossentropy', optimizer = 'adam', metrics=['accuracy'])\n",
    "drawer_lenet_5_model.summary()"
   ]
  },
  {
   "cell_type": "code",
   "execution_count": 6,
   "id": "a4b2eae7",
   "metadata": {},
   "outputs": [
    {
     "data": {
      "image/png": "[encoded data removed]",
      "text/plain": [
       "<IPython.core.display.Image object>"
      ]
     },
     "execution_count": 6,
     "metadata": {},
     "output_type": "execute_result"
    }
   ],
   "source": [
    "from IPython.display import SVG\n",
    "from tensorflow.keras.utils import plot_model\n",
    "\n",
    "%matplotlib inline\n",
    "\n",
    "plot_model(drawer_lenet_5_model, to_file='model_shapes.png', show_shapes=True)"
   ]
  },
  {
   "cell_type": "code",
   "execution_count": 91,
   "id": "fb9f9d51",
   "metadata": {},
   "outputs": [
    {
     "name": "stdout",
     "output_type": "stream",
     "text": [
      "Epoch 1/10\n",
      "65/65 [==============================] - 26s 384ms/step - loss: 0.8679 - accuracy: 0.5901 - val_loss: 0.6685 - val_accuracy: 0.5238\n",
      "Epoch 2/10\n",
      "65/65 [==============================] - 25s 387ms/step - loss: 0.5945 - accuracy: 0.7077 - val_loss: 0.6355 - val_accuracy: 0.6190\n",
      "Epoch 3/10\n",
      "65/65 [==============================] - 25s 387ms/step - loss: 0.4536 - accuracy: 0.8074 - val_loss: 0.5843 - val_accuracy: 0.7500\n",
      "Epoch 4/10\n",
      "65/65 [==============================] - 26s 397ms/step - loss: 0.2986 - accuracy: 0.8928 - val_loss: 0.5300 - val_accuracy: 0.7262\n",
      "Epoch 5/10\n",
      "65/65 [==============================] - 26s 397ms/step - loss: 0.1215 - accuracy: 0.9729 - val_loss: 0.8580 - val_accuracy: 0.7024\n",
      "Epoch 6/10\n",
      "65/65 [==============================] - 25s 390ms/step - loss: 0.0922 - accuracy: 0.9600 - val_loss: 0.7074 - val_accuracy: 0.6786\n",
      "Epoch 7/10\n",
      "65/65 [==============================] - 25s 391ms/step - loss: 0.0182 - accuracy: 1.0000 - val_loss: 0.7646 - val_accuracy: 0.7857\n"
     ]
    }
   ],
   "source": [
    "with tf.device('/GPU:0'):\n",
    "    drawer_history = drawer_lenet_5_model.fit(\n",
    "        drawer_train_generator,\n",
    "        steps_per_epoch=65,\n",
    "        epochs=10,\n",
    "        validation_data=drawer_validation_generator,\n",
    "        validation_steps=21,\n",
    "        verbose=1,\n",
    "        callbacks=[earlystopping]\n",
    "    )"
   ]
  },
  {
   "cell_type": "code",
   "execution_count": 96,
   "id": "857597f9",
   "metadata": {},
   "outputs": [
    {
     "name": "stdout",
     "output_type": "stream",
     "text": [
      "22/22 [==============================] - 6s 251ms/step - loss: 0.9803 - accuracy: 0.7326\n"
     ]
    }
   ],
   "source": [
    "evalution = drawer_lenet_5_model.evaluate(drawer_test_generator,batch_size = 4)"
   ]
  },
  {
   "cell_type": "markdown",
   "id": "809916aa",
   "metadata": {},
   "source": [
    "## 책상"
   ]
  },
  {
   "cell_type": "code",
   "execution_count": 99,
   "id": "c511cb99",
   "metadata": {},
   "outputs": [
    {
     "name": "stdout",
     "output_type": "stream",
     "text": [
      "Model: \"sequential_20\"\n",
      "_________________________________________________________________\n",
      "Layer (type)                 Output Shape              Param #   \n",
      "=================================================================\n",
      "conv2d_55 (Conv2D)           (None, 150, 150, 6)       294       \n",
      "_________________________________________________________________\n",
      "average_pooling2d_20 (Averag (None, 75, 75, 6)         0         \n",
      "_________________________________________________________________\n",
      "conv2d_56 (Conv2D)           (None, 72, 72, 16)        1552      \n",
      "_________________________________________________________________\n",
      "average_pooling2d_21 (Averag (None, 36, 36, 16)        0         \n",
      "_________________________________________________________________\n",
      "flatten_18 (Flatten)         (None, 20736)             0         \n",
      "_________________________________________________________________\n",
      "dense_46 (Dense)             (None, 120)               2488440   \n",
      "_________________________________________________________________\n",
      "dense_47 (Dense)             (None, 84)                10164     \n",
      "_________________________________________________________________\n",
      "dense_48 (Dense)             (None, 1)                 85        \n",
      "=================================================================\n",
      "Total params: 2,500,535\n",
      "Trainable params: 2,500,535\n",
      "Non-trainable params: 0\n",
      "_________________________________________________________________\n"
     ]
    }
   ],
   "source": [
    "desk_lenet_5_model = Sequential()\n",
    "desk_lenet_5_model.add(Conv2D(6, kernel_size=(4,4), strides=1,  activation='relu', input_shape=chair_train_generator[0][0][0].shape, padding='same')), #C1\n",
    "desk_lenet_5_model.add(AveragePooling2D()), #S2\n",
    "desk_lenet_5_model.add(Conv2D(16, kernel_size=(4,4), strides=1, activation='relu', padding='valid')), #C3\n",
    "desk_lenet_5_model.add(AveragePooling2D()), #S4\n",
    "desk_lenet_5_model.add(Flatten()), #Flatten\n",
    "desk_lenet_5_model.add(Dense(120, activation='relu')), #C5\n",
    "desk_lenet_5_model.add(Dense(84, activation='relu')), #F6\n",
    "desk_lenet_5_model.add(Dense(1, activation='sigmoid')) #Output layer\n",
    "desk_lenet_5_model.compile(loss = 'binary_crossentropy', optimizer = 'adam', metrics=['accuracy'])\n",
    "desk_lenet_5_model.summary()"
   ]
  },
  {
   "cell_type": "code",
   "execution_count": 100,
   "id": "c70f92dc",
   "metadata": {},
   "outputs": [
    {
     "name": "stdout",
     "output_type": "stream",
     "text": [
      "Epoch 1/10\n",
      "65/65 [==============================] - 24s 361ms/step - loss: 0.6626 - accuracy: 0.6056 - val_loss: 0.5843 - val_accuracy: 0.6957\n",
      "Epoch 2/10\n",
      "65/65 [==============================] - 23s 361ms/step - loss: 0.5606 - accuracy: 0.7021 - val_loss: 0.4435 - val_accuracy: 0.7717\n",
      "Epoch 3/10\n",
      "65/65 [==============================] - 23s 344ms/step - loss: 0.3683 - accuracy: 0.8531 - val_loss: 0.5561 - val_accuracy: 0.7174\n",
      "Epoch 4/10\n",
      "65/65 [==============================] - 24s 365ms/step - loss: 0.2532 - accuracy: 0.8966 - val_loss: 0.5680 - val_accuracy: 0.7283\n",
      "Epoch 5/10\n",
      "65/65 [==============================] - 23s 362ms/step - loss: 0.1444 - accuracy: 0.9470 - val_loss: 0.5860 - val_accuracy: 0.7826\n"
     ]
    }
   ],
   "source": [
    "with tf.device('/GPU:1'):\n",
    "    desk_history = desk_lenet_5_model.fit(\n",
    "        desk_train_generator,\n",
    "        steps_per_epoch=65,\n",
    "        epochs=10,\n",
    "        validation_data=desk_validation_generator,\n",
    "        validation_steps=23,\n",
    "        verbose=1,\n",
    "        callbacks=[earlystopping]\n",
    "    )"
   ]
  },
  {
   "cell_type": "code",
   "execution_count": 101,
   "id": "d3b6079e",
   "metadata": {},
   "outputs": [
    {
     "name": "stdout",
     "output_type": "stream",
     "text": [
      "24/24 [==============================] - 7s 281ms/step - loss: 0.5168 - accuracy: 0.8191\n"
     ]
    }
   ],
   "source": [
    "evalution = desk_lenet_5_model.evaluate(desk_test_generator,batch_size = 4)"
   ]
  },
  {
   "cell_type": "markdown",
   "id": "03fe2112",
   "metadata": {},
   "source": [
    "## 침대"
   ]
  },
  {
   "cell_type": "code",
   "execution_count": 94,
   "id": "ebee9f3d",
   "metadata": {},
   "outputs": [
    {
     "name": "stdout",
     "output_type": "stream",
     "text": [
      "Model: \"sequential_19\"\n",
      "_________________________________________________________________\n",
      "Layer (type)                 Output Shape              Param #   \n",
      "=================================================================\n",
      "conv2d_53 (Conv2D)           (None, 150, 150, 6)       294       \n",
      "_________________________________________________________________\n",
      "average_pooling2d_18 (Averag (None, 75, 75, 6)         0         \n",
      "_________________________________________________________________\n",
      "conv2d_54 (Conv2D)           (None, 72, 72, 16)        1552      \n",
      "_________________________________________________________________\n",
      "average_pooling2d_19 (Averag (None, 36, 36, 16)        0         \n",
      "_________________________________________________________________\n",
      "flatten_17 (Flatten)         (None, 20736)             0         \n",
      "_________________________________________________________________\n",
      "dense_43 (Dense)             (None, 120)               2488440   \n",
      "_________________________________________________________________\n",
      "dense_44 (Dense)             (None, 84)                10164     \n",
      "_________________________________________________________________\n",
      "dense_45 (Dense)             (None, 1)                 85        \n",
      "=================================================================\n",
      "Total params: 2,500,535\n",
      "Trainable params: 2,500,535\n",
      "Non-trainable params: 0\n",
      "_________________________________________________________________\n"
     ]
    }
   ],
   "source": [
    "bed_lenet_5_model = Sequential()\n",
    "bed_lenet_5_model.add(Conv2D(6, kernel_size=(4,4), strides=1,  activation='relu', input_shape=chair_train_generator[0][0][0].shape, padding='same')), #C1\n",
    "bed_lenet_5_model.add(AveragePooling2D()), #S2\n",
    "bed_lenet_5_model.add(Conv2D(16, kernel_size=(4,4), strides=1, activation='relu', padding='valid')), #C3\n",
    "bed_lenet_5_model.add(AveragePooling2D()), #S4\n",
    "bed_lenet_5_model.add(Flatten()), #Flatten\n",
    "bed_lenet_5_model.add(Dense(120, activation='relu')), #C5\n",
    "bed_lenet_5_model.add(Dense(84, activation='relu')), #F6\n",
    "bed_lenet_5_model.add(Dense(1, activation='sigmoid')) #Output layer\n",
    "bed_lenet_5_model.compile(loss = 'binary_crossentropy', optimizer = 'adam', metrics=['accuracy'])\n",
    "bed_lenet_5_model.summary()"
   ]
  },
  {
   "cell_type": "code",
   "execution_count": 95,
   "id": "d1310cbc",
   "metadata": {},
   "outputs": [
    {
     "name": "stdout",
     "output_type": "stream",
     "text": [
      "Epoch 1/10\n",
      "24/24 [==============================] - 10s 390ms/step - loss: 0.8126 - accuracy: 0.4596 - val_loss: 0.6925 - val_accuracy: 0.5588\n",
      "Epoch 2/10\n",
      "24/24 [==============================] - 9s 391ms/step - loss: 0.6507 - accuracy: 0.8155 - val_loss: 0.6949 - val_accuracy: 0.6176\n",
      "Epoch 3/10\n",
      "24/24 [==============================] - 9s 391ms/step - loss: 0.5504 - accuracy: 0.8177 - val_loss: 0.8552 - val_accuracy: 0.5588\n",
      "Epoch 4/10\n",
      "24/24 [==============================] - 9s 390ms/step - loss: 0.4145 - accuracy: 0.8298 - val_loss: 1.0744 - val_accuracy: 0.5588\n"
     ]
    }
   ],
   "source": [
    "with tf.device('/GPU:1'):\n",
    "    bed_history = bed_lenet_5_model.fit(\n",
    "        bed_train_generator,\n",
    "        steps_per_epoch=24,\n",
    "        epochs=10,\n",
    "        validation_data=bed_validation_generator,\n",
    "        validation_steps=9,\n",
    "        verbose=1,\n",
    "        callbacks=[earlystopping]\n",
    "    )"
   ]
  },
  {
   "cell_type": "code",
   "execution_count": 98,
   "id": "879c4c4e",
   "metadata": {},
   "outputs": [
    {
     "name": "stdout",
     "output_type": "stream",
     "text": [
      "9/9 [==============================] - 3s 243ms/step - loss: 0.7655 - accuracy: 0.5588\n"
     ]
    }
   ],
   "source": [
    "evalution = bed_lenet_5_model.evaluate(bed_test_generator,batch_size = 4)"
   ]
  },
  {
   "cell_type": "code",
   "execution_count": null,
   "id": "261945b5",
   "metadata": {},
   "outputs": [],
   "source": []
  }
 ],
 "metadata": {
  "kernelspec": {
   "display_name": "Python 3",
   "language": "python",
   "name": "python3"
  },
  "language_info": {
   "codemirror_mode": {
    "name": "ipython",
    "version": 3
   },
   "file_extension": ".py",
   "mimetype": "text/x-python",
   "name": "python",
   "nbconvert_exporter": "python",
   "pygments_lexer": "ipython3",
   "version": "3.6.13"
  }
 },
 "nbformat": 4,
 "nbformat_minor": 5
}

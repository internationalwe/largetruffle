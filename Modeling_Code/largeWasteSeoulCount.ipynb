{
 "metadata": {
  "language_info": {
   "codemirror_mode": {
    "name": "ipython",
    "version": 3
   },
   "file_extension": ".py",
   "mimetype": "text/x-python",
   "name": "python",
   "nbconvert_exporter": "python",
   "pygments_lexer": "ipython3",
   "version": "3.8"
  },
  "orig_nbformat": 4,
  "kernelspec": {
   "name": "python3",
   "display_name": "Python 3.8  ('anaconda3': virtualenv)"
  },
  "interpreter": {
   "hash": "7fa6e3eb562817058a384f6b36bb63d68831967ae4c1e8a33ae8249458f3f811"
  }
 },
 "nbformat": 4,
 "nbformat_minor": 2,
 "cells": [
  {
   "cell_type": "code",
   "execution_count": 1,
   "metadata": {},
   "outputs": [],
   "source": [
    "import os"
   ]
  },
  {
   "source": [
    "## 각 폴더의 이름 리스트에 넣기\n",
    "- os 라이브러리를 사용해서 listdir 함수를 이용해 folder이름을 가져오기"
   ],
   "cell_type": "markdown",
   "metadata": {}
  },
  {
   "cell_type": "code",
   "execution_count": 2,
   "metadata": {},
   "outputs": [],
   "source": [
    "path_dir = \"/home/class1/Document/project/largewaste/dataset/largewWasteImageBySeoul/이미지_대형폐기물\"\n",
    "file_list = os.listdir(path_dir)\n",
    "del file_list[3]\n"
   ]
  },
  {
   "cell_type": "code",
   "execution_count": 3,
   "metadata": {},
   "outputs": [
    {
     "output_type": "stream",
     "name": "stdout",
     "text": [
      "['종걸', '연호', '성주', '호준']\n"
     ]
    }
   ],
   "source": [
    "print(file_list)"
   ]
  },
  {
   "source": [
    "## 파일마다 달려있는 레이블을 리스트에 넣기\n",
    "- split_list만들기\n",
    "- 폴더 하나씩 실행\n",
    "- '_'으로 문자를 나누기\n",
    "- 문자만 들어가있는 문자열만 split_list에 넣음 그 이유는 뒤에 숫자와 파일명을 레이블링값이 아니기 떄문이다"
   ],
   "cell_type": "markdown",
   "metadata": {}
  },
  {
   "cell_type": "code",
   "execution_count": 5,
   "metadata": {},
   "outputs": [],
   "source": [
    "split_list = []"
   ]
  },
  {
   "cell_type": "code",
   "execution_count": 6,
   "metadata": {},
   "outputs": [],
   "source": [
    "for folder_name in file_list:\n",
    "    image_name_list = os.listdir(path_dir + '/' + folder_name)\n",
    "    for name in image_name_list:\n",
    "        split = name.split('_')\n",
    "        for split_name in split:\n",
    "            if split_name.isalpha():\n",
    "                split_list.append(split_name)"
   ]
  },
  {
   "cell_type": "code",
   "execution_count": 7,
   "metadata": {
    "tags": []
   },
   "outputs": [
    {
     "output_type": "stream",
     "name": "stdout",
     "text": [
      "['의자', '의자', '의자', '의자', '유모차', '의자', '조명기구', '의자', '의자', '의자']\n"
     ]
    }
   ],
   "source": [
    "print(split_list[:10])"
   ]
  },
  {
   "source": [
    "## 리스트의 각 요소마다 갯수 세기\n",
    "- collection 라이브러리의 Counter함수는 각 요소를 key로 두고 각 갯수를 value(int형)인 딕셔너리 반환"
   ],
   "cell_type": "markdown",
   "metadata": {}
  },
  {
   "cell_type": "code",
   "execution_count": 8,
   "metadata": {},
   "outputs": [],
   "source": [
    "import collections\n",
    "\n",
    "dict ={}\n",
    "dict = collections.Counter(split_list)\n"
   ]
  },
  {
   "cell_type": "code",
   "execution_count": 9,
   "metadata": {},
   "outputs": [
    {
     "output_type": "stream",
     "name": "stdout",
     "text": [
      "Counter({'의자': 344, '서랍장': 132, '책상': 128, '베개': 94, '밥상': 88, '침대': 83, '냉장고': 68, '소파류': 61, '타이어': 55, '액자': 53, '거울': 53, '책장': 50, '장판': 44, '가방': 42, '돗자리': 37, 'A책상': 34, '복사기': 30, '선풍기': 29, '청소기': 28, '완구류': 27, '방석': 26, '유모차': 23, '세탁기': 23, '아이스박스': 21, '문짝': 21, '책꽂이': 18, '수납장': 15, '전기담요': 14, 'A침대': 14, '김치냉장고': 14, 'A책장': 13, '식탁': 13, '욕조': 12, '다리미판': 12, 'A': 10, 'N서랍장': 10, '옷걸이류': 10, '비데': 9, '장롱': 8, '항아리류': 8, '캐비닛류': 8, '개수대류': 8, '변기통': 8, 'A차탁자': 7, 'N옷걸이류': 7, 'N소파류': 7, '빨래건조대': 7, '텔레비젼': 6, '파티션': 6, '자전거': 5, 'A카펫': 5, '진열장': 5, '골프가방': 5, '차탁자': 4, 'A책꽂이': 4, '화장대': 4, '텐트': 4, '도마': 4, '커튼': 3, '카펫': 3, 'A청소기': 3, '히터류': 3, 'N식탁': 3, '에어콘': 3, 'A밥상': 3, '보행기': 3, '난로': 3, '고무통': 3, '조명기구': 2, 'ㅁ텔레비젼': 2, '화장품함': 2, 'A화장대': 2, 'A진열장': 2, 'A타이어': 2, '헬스자전거': 2, 'A텔레비젼': 2, 'ㅁ침대': 2, 'ㅁ협탁': 2, '피아노': 2, '식기건조기': 2, '가스오븐레인지': 2, '벽걸이시계': 2, 'A파티션': 1, 'ㅁ히터류': 1, 'A서랍': 1, 'A서랍장': 1, 'ㅁ텔레비전대': 1, 'a타이어': 1, 'ㅁ항아리류': 1, 'A캐비닛류': 1, 'ㅁ피아노': 1, '수장납': 1, 'A텔레비전대': 1, '스피커': 1, '쓰레기통': 1, '옥매트': 1, '본체': 1, 'A액자': 1, 'N책상': 1, 'A난로': 1, '정수기': 1, '텔레비전': 1, '김치통': 1, '배게': 1, '쿠션': 1, 'A복사기': 1})\n"
     ]
    }
   ],
   "source": [
    "print(dict)"
   ]
  },
  {
   "cell_type": "code",
   "execution_count": 10,
   "metadata": {},
   "outputs": [
    {
     "output_type": "stream",
     "name": "stdout",
     "text": [
      "1960\n"
     ]
    }
   ],
   "source": [
    "count = 0\n",
    "for number in dict:\n",
    "    count += dict[number]\n",
    "print(count)"
   ]
  }
 ]
}